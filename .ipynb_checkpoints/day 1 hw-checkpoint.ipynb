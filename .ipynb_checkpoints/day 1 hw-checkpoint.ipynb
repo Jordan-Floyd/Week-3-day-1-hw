{
 "cells": [
  {
   "cell_type": "code",
   "execution_count": null,
   "id": "1a6cd1f4",
   "metadata": {},
   "outputs": [],
   "source": []
  },
  {
   "cell_type": "code",
   "execution_count": 160,
   "id": "cde7b85f",
   "metadata": {},
   "outputs": [
    {
     "name": "stdout",
     "output_type": "stream",
     "text": [
      "Hawkins, Derek\tderek@codingtemple.com\t(555) 555-5555\tTeacher, Coding Temple\t@derekhawkins\n",
      "\n",
      "Zhai, Mo\tmozhai@codingtemple.com\t(555) 555-5554\tTeacher, Coding Temple\n",
      "\n",
      "Johnson, Joe\tjoejohnson@codingtemple.com\t\tJohson, Joe\n",
      "\n",
      "Osterberg, Sven-Erik\tgovernor@norrbotten.co.se\t\tGovernor, Norrbotten\t@sverik\n",
      "\n",
      "Butz, Ryan\tryanb@codingtemple.com\t(555) 555-5543\tCEO, Coding Temple\t@ryanbutz\n",
      "\n",
      "Doctor, The\tdoctor+companion@tardis.co.uk\t\tTime Lord, Gallifrey\n",
      "\n",
      "Exampleson, Example\tme@example.com\t555-555-5552\tExample, Example Co.\t@example\n",
      "\n",
      "Pael, Ripal\tripalp@codingtemple.com\t(555) 555-5553\tTeacher, Coding Temple\t@ripalp\n",
      "\n",
      "Vader, Darth\tdarth-vader@empire.gov\t(555) 555-4444\tSith Lord, Galactic Empire\t@darthvader\n",
      "\n",
      "Fernandez de la Vega Sanz, Maria Teresa\tmtfvs@spain.gov\t\tFirst Deputy Prime Minister, Spanish Gov\n",
      "\n"
     ]
    }
   ],
   "source": [
    "# In-Class Exercise #3\n",
    "# Print each persons name and twitter handle, using groups, should look like:\n",
    "\n",
    "# ==============\n",
    "# Full Name / Twitter\n",
    "# ==============\n",
    "\n",
    "# Derek Hawkins / @derekhawkins\n",
    "# Erik Sven-Osterberg / @sverik\n",
    "\n",
    "# Ryan Butz / @ryanbutz\n",
    "\n",
    "# Example Exampleson / @example\n",
    "\n",
    "# Ripal Pael / @ripalp\n",
    "\n",
    "# Darth Vader / @darthvader\n",
    "\n",
    "# HINT -- Use readlines to isolate each employee in the directory as a list item.\n",
    "# BIG HINT -- Use of period --  . (a period) -- matches any single character except newline '\\n'\n",
    "\n",
    "\n",
    "import re\n",
    "\n",
    "f = open('names.txt')\n",
    "names = f.readlines()\n",
    "pattern = re.compile('[A-Z]')\n",
    "\n",
    "for name in names:\n",
    "    nameTwitter = pattern.match(name)\n",
    "    if nameTwitter:\n",
    "        print(name)\n",
    "    \n"
   ]
  },
  {
   "cell_type": "code",
   "execution_count": 84,
   "id": "754cc6a8",
   "metadata": {},
   "outputs": [
    {
     "name": "stdout",
     "output_type": "stream",
     "text": [
      "Abraham Lincoln\n",
      "\n",
      "Andrew P Garfield\n",
      "\n",
      "Connor Milliken\n",
      "\n",
      "Jordan Alexander Williams\n",
      "\n",
      "None\n",
      "None\n"
     ]
    },
    {
     "data": {
      "text/plain": [
       "'\\nExpected Output\\nAbraham Lincoln\\nAndrew P Garfield\\nConnor Milliken\\nJordan Alexander Williams\\nNone\\nNone\\n'"
      ]
     },
     "execution_count": 84,
     "metadata": {},
     "output_type": "execute_result"
    }
   ],
   "source": [
    "# Regex project\n",
    "# Use python to read the file regex_test.txt and print the last name on each line using regular expressions and groups\n",
    "# (return None for names with no first and last name, or names that aren't properly capitalized)\n",
    "\n",
    "# Hint: use with open() and readlines()\n",
    "\n",
    "\n",
    "import re\n",
    "\n",
    "\n",
    "\n",
    "f = open('regex-test.txt')\n",
    "names = f.readlines()\n",
    "pattern = re.compile('[A-Z][^a]')\n",
    "\n",
    "for name in names:\n",
    "    nameList = pattern.match(name)\n",
    "    if nameList:\n",
    "        print(name)\n",
    "    else:\n",
    "        print('None')\n",
    "    \n",
    "\n",
    "\n",
    "\n",
    "\n",
    "\"\"\"\n",
    "Expected Output\n",
    "Abraham Lincoln\n",
    "Andrew P Garfield\n",
    "Connor Milliken\n",
    "Jordan Alexander Williams\n",
    "None\n",
    "None\n",
    "\"\"\"\n",
    "\n",
    "\n"
   ]
  },
  {
   "cell_type": "code",
   "execution_count": null,
   "id": "2f22b8dd",
   "metadata": {},
   "outputs": [],
   "source": []
  }
 ],
 "metadata": {
  "kernelspec": {
   "display_name": "Python 3",
   "language": "python",
   "name": "python3"
  },
  "language_info": {
   "codemirror_mode": {
    "name": "ipython",
    "version": 3
   },
   "file_extension": ".py",
   "mimetype": "text/x-python",
   "name": "python",
   "nbconvert_exporter": "python",
   "pygments_lexer": "ipython3",
   "version": "3.8.8"
  }
 },
 "nbformat": 4,
 "nbformat_minor": 5
}
